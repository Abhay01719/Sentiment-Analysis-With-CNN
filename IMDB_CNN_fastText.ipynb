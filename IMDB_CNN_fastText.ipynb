{
 "cells": [
  {
   "cell_type": "code",
   "execution_count": 1,
   "metadata": {},
   "outputs": [],
   "source": [
    "import fasttext"
   ]
  },
  {
   "cell_type": "code",
   "execution_count": 2,
   "metadata": {
    "id": "om1a6d7gpMXF",
    "scrolled": true
   },
   "outputs": [],
   "source": [
    "import numpy as np\n",
    "import pandas as pd\n",
    "from collections import defaultdict\n",
    "import re\n",
    "import nltk\n",
    "from nltk.corpus import stopwords\n",
    "\n",
    "from bs4 import BeautifulSoup\n",
    "\n",
    "import sys\n",
    "import os\n",
    "\n",
    "from keras.preprocessing.text import Tokenizer\n",
    "from keras.utils import pad_sequences\n",
    "from tensorflow.keras.utils import to_categorical\n",
    "\n",
    "from keras.layers import Embedding\n",
    "from keras.layers import Dense, Input, Flatten\n",
    "from keras.layers import Conv1D, MaxPooling1D, Embedding,concatenate, Dropout\n",
    "from keras.models import Model\n",
    "\n",
    "MAX_SEQUENCE_LENGTH = 1000\n",
    "MAX_NB_WORDS = 200000\n",
    "EMBEDDING_DIM = 100\n",
    "VALIDATION_SPLIT = 0.2"
   ]
  },
  {
   "cell_type": "code",
   "execution_count": 8,
   "metadata": {
    "colab": {
     "base_uri": "https://localhost:8080/",
     "height": 107
    },
    "id": "UVsxrJCtpMXG",
    "outputId": "ffa54dfb-93fd-46f0-cc13-bf84590f76a2"
   },
   "outputs": [
    {
     "data": {
      "text/plain": [
       "'A wonderful little production. <br /><br />The filming technique is very unassuming- very old-time-BBC fashion and gives a comforting, and sometimes discomforting, sense of realism to the entire piece. <br /><br />The actors are extremely well chosen- Michael Sheen not only \"has got all the polari\" but he has all the voices down pat too! You can truly see the seamless editing guided by the references to Williams\\' diary entries, not only is it well worth the watching but it is a terrificly written and performed piece. A masterful production about one of the great master\\'s of comedy and his life. <br /><br />The realism really comes home with the little things: the fantasy of the guard which, rather than use the traditional \\'dream\\' techniques remains solid then disappears. It plays on our knowledge and our senses, particularly with the scenes concerning Orton and Halliwell and the sets (particularly of their flat with Halliwell\\'s murals decorating every surface) are terribly well done.'"
      ]
     },
     "execution_count": 8,
     "metadata": {},
     "output_type": "execute_result"
    }
   ],
   "source": [
    "data_train = pd.read_csv(r\"C:\\Users\\abhay\\IMDB Dataset.csv\", nrows = 5000)\n",
    "data_train.review[1]"
   ]
  },
  {
   "cell_type": "code",
   "execution_count": 9,
   "metadata": {
    "colab": {
     "base_uri": "https://localhost:8080/",
     "height": 424
    },
    "id": "8BucMWtVpMXH",
    "outputId": "5587f844-b66d-4a69-fb79-486c7971f5d9"
   },
   "outputs": [
    {
     "data": {
      "text/html": [
       "<div>\n",
       "<style scoped>\n",
       "    .dataframe tbody tr th:only-of-type {\n",
       "        vertical-align: middle;\n",
       "    }\n",
       "\n",
       "    .dataframe tbody tr th {\n",
       "        vertical-align: top;\n",
       "    }\n",
       "\n",
       "    .dataframe thead th {\n",
       "        text-align: right;\n",
       "    }\n",
       "</style>\n",
       "<table border=\"1\" class=\"dataframe\">\n",
       "  <thead>\n",
       "    <tr style=\"text-align: right;\">\n",
       "      <th></th>\n",
       "      <th>review</th>\n",
       "      <th>sentiment</th>\n",
       "    </tr>\n",
       "  </thead>\n",
       "  <tbody>\n",
       "    <tr>\n",
       "      <th>0</th>\n",
       "      <td>One of the other reviewers has mentioned that ...</td>\n",
       "      <td>positive</td>\n",
       "    </tr>\n",
       "    <tr>\n",
       "      <th>1</th>\n",
       "      <td>A wonderful little production. &lt;br /&gt;&lt;br /&gt;The...</td>\n",
       "      <td>positive</td>\n",
       "    </tr>\n",
       "    <tr>\n",
       "      <th>2</th>\n",
       "      <td>I thought this was a wonderful way to spend ti...</td>\n",
       "      <td>positive</td>\n",
       "    </tr>\n",
       "    <tr>\n",
       "      <th>3</th>\n",
       "      <td>Basically there's a family where a little boy ...</td>\n",
       "      <td>negative</td>\n",
       "    </tr>\n",
       "    <tr>\n",
       "      <th>4</th>\n",
       "      <td>Petter Mattei's \"Love in the Time of Money\" is...</td>\n",
       "      <td>positive</td>\n",
       "    </tr>\n",
       "    <tr>\n",
       "      <th>...</th>\n",
       "      <td>...</td>\n",
       "      <td>...</td>\n",
       "    </tr>\n",
       "    <tr>\n",
       "      <th>4995</th>\n",
       "      <td>An interesting slasher film with multiple susp...</td>\n",
       "      <td>negative</td>\n",
       "    </tr>\n",
       "    <tr>\n",
       "      <th>4996</th>\n",
       "      <td>i watched this series when it first came out i...</td>\n",
       "      <td>positive</td>\n",
       "    </tr>\n",
       "    <tr>\n",
       "      <th>4997</th>\n",
       "      <td>Once again Jet Li brings his charismatic prese...</td>\n",
       "      <td>positive</td>\n",
       "    </tr>\n",
       "    <tr>\n",
       "      <th>4998</th>\n",
       "      <td>I rented this movie, after hearing Chris Gore ...</td>\n",
       "      <td>negative</td>\n",
       "    </tr>\n",
       "    <tr>\n",
       "      <th>4999</th>\n",
       "      <td>This was a big disappointment for me. I think ...</td>\n",
       "      <td>negative</td>\n",
       "    </tr>\n",
       "  </tbody>\n",
       "</table>\n",
       "<p>5000 rows × 2 columns</p>\n",
       "</div>"
      ],
      "text/plain": [
       "                                                 review sentiment\n",
       "0     One of the other reviewers has mentioned that ...  positive\n",
       "1     A wonderful little production. <br /><br />The...  positive\n",
       "2     I thought this was a wonderful way to spend ti...  positive\n",
       "3     Basically there's a family where a little boy ...  negative\n",
       "4     Petter Mattei's \"Love in the Time of Money\" is...  positive\n",
       "...                                                 ...       ...\n",
       "4995  An interesting slasher film with multiple susp...  negative\n",
       "4996  i watched this series when it first came out i...  positive\n",
       "4997  Once again Jet Li brings his charismatic prese...  positive\n",
       "4998  I rented this movie, after hearing Chris Gore ...  negative\n",
       "4999  This was a big disappointment for me. I think ...  negative\n",
       "\n",
       "[5000 rows x 2 columns]"
      ]
     },
     "execution_count": 9,
     "metadata": {},
     "output_type": "execute_result"
    }
   ],
   "source": [
    "data_train"
   ]
  },
  {
   "cell_type": "code",
   "execution_count": 10,
   "metadata": {},
   "outputs": [
    {
     "name": "stdout",
     "output_type": "stream",
     "text": [
      "<class 'pandas.core.frame.DataFrame'>\n",
      "RangeIndex: 5000 entries, 0 to 4999\n",
      "Data columns (total 2 columns):\n",
      " #   Column     Non-Null Count  Dtype \n",
      "---  ------     --------------  ----- \n",
      " 0   review     5000 non-null   object\n",
      " 1   sentiment  5000 non-null   object\n",
      "dtypes: object(2)\n",
      "memory usage: 78.3+ KB\n"
     ]
    }
   ],
   "source": [
    "data_train.info()"
   ]
  },
  {
   "cell_type": "code",
   "execution_count": 11,
   "metadata": {},
   "outputs": [],
   "source": [
    "data_train['review'] = data_train['review'].str.lower()"
   ]
  },
  {
   "cell_type": "code",
   "execution_count": 12,
   "metadata": {},
   "outputs": [],
   "source": [
    "stop = stopwords.words('english')\n",
    "data_train['review'] = data_train['review'].apply(lambda x: ' '.join([word for word in x.split() if word not in (stop)]))"
   ]
  },
  {
   "cell_type": "code",
   "execution_count": 13,
   "metadata": {},
   "outputs": [
    {
     "data": {
      "text/plain": [
       "\"one reviewers mentioned watching 1 oz episode hooked. right, exactly happened me.<br /><br />the first thing struck oz brutality unflinching scenes violence, set right word go. trust me, show faint hearted timid. show pulls punches regards drugs, sex violence. hardcore, classic use word.<br /><br />it called oz nickname given oswald maximum security state penitentary. focuses mainly emerald city, experimental section prison cells glass fronts face inwards, privacy high agenda. em city home many..aryans, muslims, gangstas, latinos, christians, italians, irish more....so scuffles, death stares, dodgy dealings shady agreements never far away.<br /><br />i would say main appeal show due fact goes shows dare. forget pretty pictures painted mainstream audiences, forget charm, forget romance...oz mess around. first episode ever saw struck nasty surreal, say ready it, watched more, developed taste oz, got accustomed high levels graphic violence. violence, injustice (crooked guards who'll sold nickel, inmates who'll kill order get away it, well mannered, middle class inmates turned prison bitches due lack street skills prison experience) watching oz, may become comfortable uncomfortable viewing....thats get touch darker side.\""
      ]
     },
     "execution_count": 13,
     "metadata": {},
     "output_type": "execute_result"
    }
   ],
   "source": [
    "data_train['review'][0]"
   ]
  },
  {
   "cell_type": "code",
   "execution_count": 14,
   "metadata": {},
   "outputs": [],
   "source": [
    "data_train['review'] = data_train['review'].apply((lambda x: re.sub('[^a-zA-z0-9\\s]','',x)))"
   ]
  },
  {
   "cell_type": "code",
   "execution_count": 15,
   "metadata": {},
   "outputs": [
    {
     "data": {
      "text/plain": [
       "'one reviewers mentioned watching 1 oz episode hooked right exactly happened mebr br the first thing struck oz brutality unflinching scenes violence set right word go trust me show faint hearted timid show pulls punches regards drugs sex violence hardcore classic use wordbr br it called oz nickname given oswald maximum security state penitentary focuses mainly emerald city experimental section prison cells glass fronts face inwards privacy high agenda em city home manyaryans muslims gangstas latinos christians italians irish moreso scuffles death stares dodgy dealings shady agreements never far awaybr br i would say main appeal show due fact goes shows dare forget pretty pictures painted mainstream audiences forget charm forget romanceoz mess around first episode ever saw struck nasty surreal say ready it watched more developed taste oz got accustomed high levels graphic violence violence injustice crooked guards wholl sold nickel inmates wholl kill order get away it well mannered middle class inmates turned prison bitches due lack street skills prison experience watching oz may become comfortable uncomfortable viewingthats get touch darker side'"
      ]
     },
     "execution_count": 15,
     "metadata": {},
     "output_type": "execute_result"
    }
   ],
   "source": [
    "data_train['review'][0]"
   ]
  },
  {
   "cell_type": "code",
   "execution_count": 16,
   "metadata": {
    "colab": {
     "base_uri": "https://localhost:8080/",
     "height": 206
    },
    "id": "uQoMfYG_6t7n",
    "outputId": "1b85a995-6315-4252-bb6e-0063e7053c96"
   },
   "outputs": [
    {
     "data": {
      "text/html": [
       "<div>\n",
       "<style scoped>\n",
       "    .dataframe tbody tr th:only-of-type {\n",
       "        vertical-align: middle;\n",
       "    }\n",
       "\n",
       "    .dataframe tbody tr th {\n",
       "        vertical-align: top;\n",
       "    }\n",
       "\n",
       "    .dataframe thead th {\n",
       "        text-align: right;\n",
       "    }\n",
       "</style>\n",
       "<table border=\"1\" class=\"dataframe\">\n",
       "  <thead>\n",
       "    <tr style=\"text-align: right;\">\n",
       "      <th></th>\n",
       "      <th>review</th>\n",
       "      <th>sentiment</th>\n",
       "    </tr>\n",
       "  </thead>\n",
       "  <tbody>\n",
       "    <tr>\n",
       "      <th>0</th>\n",
       "      <td>[one, reviewers, mentioned, watching, 1, oz, e...</td>\n",
       "      <td>positive</td>\n",
       "    </tr>\n",
       "    <tr>\n",
       "      <th>1</th>\n",
       "      <td>[wonderful, little, production, br, br, the, f...</td>\n",
       "      <td>positive</td>\n",
       "    </tr>\n",
       "    <tr>\n",
       "      <th>2</th>\n",
       "      <td>[thought, wonderful, way, spend, time, hot, su...</td>\n",
       "      <td>positive</td>\n",
       "    </tr>\n",
       "    <tr>\n",
       "      <th>3</th>\n",
       "      <td>[basically, theres, family, little, boy, jake,...</td>\n",
       "      <td>negative</td>\n",
       "    </tr>\n",
       "    <tr>\n",
       "      <th>4</th>\n",
       "      <td>[petter, matteis, love, time, money, visually,...</td>\n",
       "      <td>positive</td>\n",
       "    </tr>\n",
       "  </tbody>\n",
       "</table>\n",
       "</div>"
      ],
      "text/plain": [
       "                                              review sentiment\n",
       "0  [one, reviewers, mentioned, watching, 1, oz, e...  positive\n",
       "1  [wonderful, little, production, br, br, the, f...  positive\n",
       "2  [thought, wonderful, way, spend, time, hot, su...  positive\n",
       "3  [basically, theres, family, little, boy, jake,...  negative\n",
       "4  [petter, matteis, love, time, money, visually,...  positive"
      ]
     },
     "execution_count": 16,
     "metadata": {},
     "output_type": "execute_result"
    }
   ],
   "source": [
    "# Splitting sentences to words\n",
    "def splitting(text):\n",
    "    text = re.split('\\W+', text)\n",
    "    return text\n",
    "\n",
    "data_train['review'] = data_train['review'].apply(lambda x: splitting(x.lower()))\n",
    "data_train.head()"
   ]
  },
  {
   "cell_type": "code",
   "execution_count": 17,
   "metadata": {
    "colab": {
     "base_uri": "https://localhost:8080/",
     "height": 206
    },
    "id": "B8T93fFy6t7o",
    "outputId": "7a79e034-684e-442e-d30a-f9f116858a08"
   },
   "outputs": [
    {
     "data": {
      "text/html": [
       "<div>\n",
       "<style scoped>\n",
       "    .dataframe tbody tr th:only-of-type {\n",
       "        vertical-align: middle;\n",
       "    }\n",
       "\n",
       "    .dataframe tbody tr th {\n",
       "        vertical-align: top;\n",
       "    }\n",
       "\n",
       "    .dataframe thead th {\n",
       "        text-align: right;\n",
       "    }\n",
       "</style>\n",
       "<table border=\"1\" class=\"dataframe\">\n",
       "  <thead>\n",
       "    <tr style=\"text-align: right;\">\n",
       "      <th></th>\n",
       "      <th>review</th>\n",
       "      <th>sentiment</th>\n",
       "    </tr>\n",
       "  </thead>\n",
       "  <tbody>\n",
       "    <tr>\n",
       "      <th>0</th>\n",
       "      <td>[one, reviewer, mentioned, watching, 1, oz, ep...</td>\n",
       "      <td>positive</td>\n",
       "    </tr>\n",
       "    <tr>\n",
       "      <th>1</th>\n",
       "      <td>[wonderful, little, production, br, br, the, f...</td>\n",
       "      <td>positive</td>\n",
       "    </tr>\n",
       "    <tr>\n",
       "      <th>2</th>\n",
       "      <td>[thought, wonderful, way, spend, time, hot, su...</td>\n",
       "      <td>positive</td>\n",
       "    </tr>\n",
       "    <tr>\n",
       "      <th>3</th>\n",
       "      <td>[basically, there, family, little, boy, jake, ...</td>\n",
       "      <td>negative</td>\n",
       "    </tr>\n",
       "    <tr>\n",
       "      <th>4</th>\n",
       "      <td>[petter, matteis, love, time, money, visually,...</td>\n",
       "      <td>positive</td>\n",
       "    </tr>\n",
       "  </tbody>\n",
       "</table>\n",
       "</div>"
      ],
      "text/plain": [
       "                                              review sentiment\n",
       "0  [one, reviewer, mentioned, watching, 1, oz, ep...  positive\n",
       "1  [wonderful, little, production, br, br, the, f...  positive\n",
       "2  [thought, wonderful, way, spend, time, hot, su...  positive\n",
       "3  [basically, there, family, little, boy, jake, ...  negative\n",
       "4  [petter, matteis, love, time, money, visually,...  positive"
      ]
     },
     "execution_count": 17,
     "metadata": {},
     "output_type": "execute_result"
    }
   ],
   "source": [
    "# Lemmitization\n",
    "wn = nltk.WordNetLemmatizer()\n",
    "\n",
    "def lemmatizer(text):\n",
    "    text = [wn.lemmatize(word) for word in text]\n",
    "    return text\n",
    "\n",
    "data_train['review'] = data_train['review'].apply(lambda x: lemmatizer(x))\n",
    "data_train.head()"
   ]
  },
  {
   "cell_type": "code",
   "execution_count": 18,
   "metadata": {
    "colab": {
     "base_uri": "https://localhost:8080/",
     "height": 206
    },
    "id": "X97UIVAY6t7n",
    "outputId": "cab4937c-ece5-409f-d68f-3f822a41ce5a"
   },
   "outputs": [
    {
     "data": {
      "text/html": [
       "<div>\n",
       "<style scoped>\n",
       "    .dataframe tbody tr th:only-of-type {\n",
       "        vertical-align: middle;\n",
       "    }\n",
       "\n",
       "    .dataframe tbody tr th {\n",
       "        vertical-align: top;\n",
       "    }\n",
       "\n",
       "    .dataframe thead th {\n",
       "        text-align: right;\n",
       "    }\n",
       "</style>\n",
       "<table border=\"1\" class=\"dataframe\">\n",
       "  <thead>\n",
       "    <tr style=\"text-align: right;\">\n",
       "      <th></th>\n",
       "      <th>review</th>\n",
       "      <th>sentiment</th>\n",
       "    </tr>\n",
       "  </thead>\n",
       "  <tbody>\n",
       "    <tr>\n",
       "      <th>0</th>\n",
       "      <td>[one, review, mention, watch, 1, oz, episod, h...</td>\n",
       "      <td>positive</td>\n",
       "    </tr>\n",
       "    <tr>\n",
       "      <th>1</th>\n",
       "      <td>[wonder, littl, product, br, br, the, film, te...</td>\n",
       "      <td>positive</td>\n",
       "    </tr>\n",
       "    <tr>\n",
       "      <th>2</th>\n",
       "      <td>[thought, wonder, way, spend, time, hot, summe...</td>\n",
       "      <td>positive</td>\n",
       "    </tr>\n",
       "    <tr>\n",
       "      <th>3</th>\n",
       "      <td>[basic, there, famili, littl, boy, jake, think...</td>\n",
       "      <td>negative</td>\n",
       "    </tr>\n",
       "    <tr>\n",
       "      <th>4</th>\n",
       "      <td>[petter, mattei, love, time, money, visual, st...</td>\n",
       "      <td>positive</td>\n",
       "    </tr>\n",
       "  </tbody>\n",
       "</table>\n",
       "</div>"
      ],
      "text/plain": [
       "                                              review sentiment\n",
       "0  [one, review, mention, watch, 1, oz, episod, h...  positive\n",
       "1  [wonder, littl, product, br, br, the, film, te...  positive\n",
       "2  [thought, wonder, way, spend, time, hot, summe...  positive\n",
       "3  [basic, there, famili, littl, boy, jake, think...  negative\n",
       "4  [petter, mattei, love, time, money, visual, st...  positive"
      ]
     },
     "execution_count": 18,
     "metadata": {},
     "output_type": "execute_result"
    }
   ],
   "source": [
    "# Stemming\n",
    "ps = nltk.PorterStemmer()\n",
    "\n",
    "def stemming(text):\n",
    "    text = [ps.stem(word) for word in text]\n",
    "    return text\n",
    "\n",
    "data_train['review'] = data_train['review'].apply(lambda x: stemming(x))\n",
    "data_train.head()"
   ]
  },
  {
   "cell_type": "code",
   "execution_count": 83,
   "metadata": {},
   "outputs": [],
   "source": [
    "# model = fasttext.train_unsupervised(r\"C:\\Users\\abhay\\data_train.txt\")\n",
    "# model.save_model('fasttext_embedding_model')"
   ]
  },
  {
   "cell_type": "code",
   "execution_count": 85,
   "metadata": {},
   "outputs": [],
   "source": [
    "model = fasttext.load_model('fasttext_embedding_model.bin')"
   ]
  },
  {
   "cell_type": "code",
   "execution_count": 86,
   "metadata": {},
   "outputs": [
    {
     "data": {
      "text/plain": [
       "[(0.8030160665512085, '10'),\n",
       " (0.7545254826545715, 'rating'),\n",
       " (0.7452172040939331, '5'),\n",
       " (0.7371419668197632, '4'),\n",
       " (0.7264859676361084, '1'),\n",
       " (0.7015824913978577, \"'1'\"),\n",
       " (0.6827268600463867, \"'10\"),\n",
       " (0.6719403862953186, '7'),\n",
       " (0.671427845954895, '8'),\n",
       " (0.6650434136390686, '9')]"
      ]
     },
     "execution_count": 86,
     "metadata": {},
     "output_type": "execute_result"
    }
   ],
   "source": [
    "model.get_nearest_neighbors('0')"
   ]
  },
  {
   "cell_type": "code",
   "execution_count": 87,
   "metadata": {},
   "outputs": [
    {
     "data": {
      "text/plain": [
       "array([ 3.57556641e-01,  1.57288939e-01,  4.22017649e-02, -8.30134973e-02,\n",
       "       -3.33866328e-02, -2.21145973e-01,  7.82471597e-02, -4.17709053e-02,\n",
       "        9.52527598e-02, -3.34669687e-02, -3.90891910e-01,  2.71300413e-02,\n",
       "       -2.18692914e-01, -2.49209702e-02,  1.78961456e-03,  1.50217772e-01,\n",
       "       -7.00644553e-02, -1.30738899e-01, -2.18264330e-02, -7.57301599e-02,\n",
       "       -1.90378100e-01,  2.02515900e-01, -6.36990890e-02,  8.87535661e-02,\n",
       "       -3.12903076e-02, -2.15741977e-01, -1.90676376e-02,  1.28298089e-01,\n",
       "        1.26422793e-01,  7.30755180e-03, -3.83870304e-02,  7.56041408e-02,\n",
       "        3.05536538e-01,  1.97547555e-01,  6.71051443e-03, -3.47235054e-03,\n",
       "       -2.86998302e-01,  1.43532783e-01,  1.42809853e-01,  1.48083180e-01,\n",
       "        3.14759374e-01, -1.74648724e-02, -6.22058362e-02,  2.09614366e-01,\n",
       "       -1.53232485e-01,  2.51472682e-01,  4.21421617e-01, -4.22203764e-02,\n",
       "        3.07794604e-02, -4.61425558e-02, -2.54705548e-04, -1.09250434e-01,\n",
       "        3.31278741e-02,  4.47793007e-02, -2.63601065e-01, -2.06287503e-01,\n",
       "       -1.53191894e-01,  4.21545357e-02,  1.81277156e-01, -2.64633447e-03,\n",
       "        3.59400064e-02,  7.53236189e-02, -2.57877409e-02, -2.40530461e-01,\n",
       "        1.76721245e-01, -6.47684485e-02, -1.36292487e-01,  3.65984552e-02,\n",
       "       -2.63931841e-01, -8.99682194e-03,  6.50821626e-03,  4.89347801e-02,\n",
       "        1.23769619e-01, -1.37876660e-01,  1.82801485e-01, -9.55680385e-02,\n",
       "        1.58517972e-01, -1.22421086e-02,  2.85510957e-01, -1.99893266e-02,\n",
       "        1.39395744e-01,  1.79234087e-01,  2.62566209e-01, -1.15208551e-02,\n",
       "       -1.01085141e-01,  3.63361426e-02, -2.56548077e-01,  1.63104087e-01,\n",
       "       -7.33844042e-02,  1.63371593e-01,  7.97417387e-02, -8.21468458e-02,\n",
       "        2.07151294e-01, -3.82605493e-02,  1.64799392e-02, -2.61202186e-01,\n",
       "       -1.22869372e-01,  8.04456621e-02, -9.93575305e-02, -1.67955339e-01],\n",
       "      dtype=float32)"
      ]
     },
     "execution_count": 87,
     "metadata": {},
     "output_type": "execute_result"
    }
   ],
   "source": [
    "model.get_word_vector('br')"
   ]
  },
  {
   "cell_type": "code",
   "execution_count": 88,
   "metadata": {},
   "outputs": [
    {
     "data": {
      "text/plain": [
       "array([ 1.02421304e-03, -2.62799710e-01, -3.86847258e-01, -5.21471016e-02,\n",
       "       -4.79752850e-03,  1.11266041e+00,  6.84959650e-01, -2.27930024e-02,\n",
       "       -6.00151159e-02,  2.56530851e-01, -2.08361670e-01,  2.84435332e-01,\n",
       "        4.51051414e-01, -4.11420316e-01,  2.32437313e-01, -2.63810456e-01,\n",
       "       -1.08557391e+00, -4.84807462e-01,  2.44566381e-01, -1.79374054e-01,\n",
       "        3.53058726e-01, -1.51229501e-01,  8.79598498e-01, -5.36291003e-01,\n",
       "       -5.30020833e-01,  1.26384646e-01, -3.74596305e-02,  5.46082914e-01,\n",
       "       -5.67966163e-01, -4.94859576e-01, -9.52866897e-02,  1.62283450e-01,\n",
       "       -1.91900283e-01, -1.50684446e-01,  7.31156051e-01,  6.47139847e-02,\n",
       "        4.34587419e-01, -5.68434894e-01,  4.29004163e-01, -7.65340269e-01,\n",
       "       -2.35657722e-01,  4.20346737e-01,  4.48330380e-02, -3.21218461e-01,\n",
       "        1.47922724e-01, -4.09175843e-01, -3.25412363e-01, -1.34833798e-01,\n",
       "       -8.18336532e-02,  3.49519141e-02,  3.86114836e-01, -3.75171065e-01,\n",
       "        4.14607614e-01, -1.76182568e-01, -3.71309042e-01, -4.15936857e-01,\n",
       "       -1.86188798e-02,  3.12056065e-01,  6.67789161e-01,  8.78591016e-02,\n",
       "        2.80346751e-01, -9.52583194e-01,  1.02123609e-02,  2.30962604e-01,\n",
       "       -6.10486984e-01,  7.29392588e-01,  1.71785921e-01, -5.78845918e-01,\n",
       "        5.46113372e-01,  5.96370697e-02, -2.42934927e-01,  3.04595441e-01,\n",
       "        1.43053815e-01,  1.66566968e-01, -2.54834056e-01,  1.43649563e-01,\n",
       "       -1.77727174e-02, -5.59076965e-01, -4.72539186e-01, -1.17097855e-01,\n",
       "        3.75936747e-01, -2.31872797e-01, -5.07385015e-01,  2.11061582e-01,\n",
       "        5.04083514e-01,  2.85679325e-02, -5.03433704e-01, -3.64167839e-02,\n",
       "        5.79792202e-01,  1.62085637e-01, -3.00790459e-01,  5.08612037e-01,\n",
       "       -5.89748740e-01,  3.79019648e-01, -3.77299637e-01, -3.77796292e-01,\n",
       "        1.74034275e-02,  2.90801413e-02,  1.44530222e-01, -5.41718816e-03],\n",
       "      dtype=float32)"
      ]
     },
     "execution_count": 88,
     "metadata": {},
     "output_type": "execute_result"
    }
   ],
   "source": [
    "p = model.get_input_matrix()\n",
    "p[0]"
   ]
  },
  {
   "cell_type": "code",
   "execution_count": 89,
   "metadata": {},
   "outputs": [],
   "source": [
    "# dir(model)"
   ]
  },
  {
   "cell_type": "code",
   "execution_count": null,
   "metadata": {},
   "outputs": [],
   "source": []
  },
  {
   "cell_type": "code",
   "execution_count": 90,
   "metadata": {
    "id": "as0za7vH6t7p"
   },
   "outputs": [
    {
     "name": "stdout",
     "output_type": "stream",
     "text": [
      "Found 37585 unique tokens.\n"
     ]
    }
   ],
   "source": [
    "# Tokenization\n",
    "tokenizer = Tokenizer(num_words=MAX_NB_WORDS)\n",
    "tokenizer.fit_on_texts(data_train['review'])\n",
    "sequences = tokenizer.texts_to_sequences(data_train['review'])\n",
    "\n",
    "word_index = tokenizer.word_index\n",
    "print('Found %s unique tokens.' % len(word_index))"
   ]
  },
  {
   "cell_type": "code",
   "execution_count": 92,
   "metadata": {},
   "outputs": [],
   "source": [
    "# data_train.review[0]"
   ]
  },
  {
   "cell_type": "code",
   "execution_count": 93,
   "metadata": {
    "id": "wpaLEoxG6t7p"
   },
   "outputs": [
    {
     "data": {
      "text/plain": [
       "0       1\n",
       "1       1\n",
       "2       1\n",
       "3       0\n",
       "4       1\n",
       "       ..\n",
       "4995    0\n",
       "4996    1\n",
       "4997    1\n",
       "4998    0\n",
       "4999    0\n",
       "Name: sentiment, Length: 5000, dtype: int64"
      ]
     },
     "execution_count": 93,
     "metadata": {},
     "output_type": "execute_result"
    }
   ],
   "source": [
    "# Label encoding of data_train['sentiment']\n",
    "data_train['sentiment'] = data_train['sentiment'].replace('negative',0)\n",
    "data_train['sentiment'] = data_train['sentiment'].replace('positive',1)\n",
    "labels = data_train['sentiment']\n",
    "labels"
   ]
  },
  {
   "cell_type": "code",
   "execution_count": 94,
   "metadata": {},
   "outputs": [],
   "source": [
    "# data = data_train.review.copy()\n",
    "# for i in range(data.shape[0]):\n",
    "    "
   ]
  },
  {
   "cell_type": "code",
   "execution_count": 95,
   "metadata": {},
   "outputs": [
    {
     "data": {
      "text/plain": [
       "[1, 2, 3, 4, 5, 6]"
      ]
     },
     "execution_count": 95,
     "metadata": {},
     "output_type": "execute_result"
    }
   ],
   "source": [
    "a"
   ]
  },
  {
   "cell_type": "code",
   "execution_count": 96,
   "metadata": {
    "colab": {
     "base_uri": "https://localhost:8080/"
    },
    "id": "l4JR67YrpMXM",
    "outputId": "bfde55f7-ff1b-43d8-c1c8-74fc08b0e1c3"
   },
   "outputs": [
    {
     "name": "stdout",
     "output_type": "stream",
     "text": [
      "Shape of data tensor: (5000, 1000)\n",
      "Shape of label tensor: (5000, 2)\n"
     ]
    }
   ],
   "source": [
    "# Pad input sequences\n",
    "data = pad_sequences(sequences, maxlen=MAX_SEQUENCE_LENGTH)\n",
    "labels = to_categorical(np.asarray(labels),num_classes = 2)\n",
    "print('Shape of data tensor:', data.shape)\n",
    "print('Shape of label tensor:', labels.shape)"
   ]
  },
  {
   "cell_type": "code",
   "execution_count": 97,
   "metadata": {
    "colab": {
     "base_uri": "https://localhost:8080/"
    },
    "id": "9w6QnB3dpMXN",
    "outputId": "d772d87a-8c43-4abb-8f9a-9a2d43148f20"
   },
   "outputs": [
    {
     "data": {
      "text/plain": [
       "100"
      ]
     },
     "execution_count": 97,
     "metadata": {},
     "output_type": "execute_result"
    }
   ],
   "source": [
    "EMBEDDING_DIM"
   ]
  },
  {
   "cell_type": "code",
   "execution_count": 98,
   "metadata": {},
   "outputs": [],
   "source": [
    "# !pip install fasttext\n",
    "import fasttext"
   ]
  },
  {
   "cell_type": "code",
   "execution_count": 99,
   "metadata": {},
   "outputs": [],
   "source": [
    "embedding_matrix = np.random.random((len(word_index) + 1, EMBEDDING_DIM))\n",
    "for word, i in word_index.items():\n",
    "    embedding_vector = model.get_word_vector(word)\n",
    "    if embedding_vector is not None:\n",
    "        # words not found in embedding index will be all-zeros.\n",
    "        embedding_matrix[i] = embedding_vector\n"
   ]
  },
  {
   "cell_type": "code",
   "execution_count": 100,
   "metadata": {},
   "outputs": [
    {
     "data": {
      "text/plain": [
       "array([ 3.57556641e-01,  1.57288939e-01,  4.22017649e-02, -8.30134973e-02,\n",
       "       -3.33866328e-02, -2.21145973e-01,  7.82471597e-02, -4.17709053e-02,\n",
       "        9.52527598e-02, -3.34669687e-02, -3.90891910e-01,  2.71300413e-02,\n",
       "       -2.18692914e-01, -2.49209702e-02,  1.78961456e-03,  1.50217772e-01,\n",
       "       -7.00644553e-02, -1.30738899e-01, -2.18264330e-02, -7.57301599e-02,\n",
       "       -1.90378100e-01,  2.02515900e-01, -6.36990890e-02,  8.87535661e-02,\n",
       "       -3.12903076e-02, -2.15741977e-01, -1.90676376e-02,  1.28298089e-01,\n",
       "        1.26422793e-01,  7.30755180e-03, -3.83870304e-02,  7.56041408e-02,\n",
       "        3.05536538e-01,  1.97547555e-01,  6.71051443e-03, -3.47235054e-03,\n",
       "       -2.86998302e-01,  1.43532783e-01,  1.42809853e-01,  1.48083180e-01,\n",
       "        3.14759374e-01, -1.74648724e-02, -6.22058362e-02,  2.09614366e-01,\n",
       "       -1.53232485e-01,  2.51472682e-01,  4.21421617e-01, -4.22203764e-02,\n",
       "        3.07794604e-02, -4.61425558e-02, -2.54705548e-04, -1.09250434e-01,\n",
       "        3.31278741e-02,  4.47793007e-02, -2.63601065e-01, -2.06287503e-01,\n",
       "       -1.53191894e-01,  4.21545357e-02,  1.81277156e-01, -2.64633447e-03,\n",
       "        3.59400064e-02,  7.53236189e-02, -2.57877409e-02, -2.40530461e-01,\n",
       "        1.76721245e-01, -6.47684485e-02, -1.36292487e-01,  3.65984552e-02,\n",
       "       -2.63931841e-01, -8.99682194e-03,  6.50821626e-03,  4.89347801e-02,\n",
       "        1.23769619e-01, -1.37876660e-01,  1.82801485e-01, -9.55680385e-02,\n",
       "        1.58517972e-01, -1.22421086e-02,  2.85510957e-01, -1.99893266e-02,\n",
       "        1.39395744e-01,  1.79234087e-01,  2.62566209e-01, -1.15208551e-02,\n",
       "       -1.01085141e-01,  3.63361426e-02, -2.56548077e-01,  1.63104087e-01,\n",
       "       -7.33844042e-02,  1.63371593e-01,  7.97417387e-02, -8.21468458e-02,\n",
       "        2.07151294e-01, -3.82605493e-02,  1.64799392e-02, -2.61202186e-01,\n",
       "       -1.22869372e-01,  8.04456621e-02, -9.93575305e-02, -1.67955339e-01])"
      ]
     },
     "execution_count": 100,
     "metadata": {},
     "output_type": "execute_result"
    }
   ],
   "source": [
    "embedding_matrix[1]"
   ]
  },
  {
   "cell_type": "code",
   "execution_count": 101,
   "metadata": {},
   "outputs": [
    {
     "data": {
      "text/plain": [
       "array([ 3.57556641e-01,  1.57288939e-01,  4.22017649e-02, -8.30134973e-02,\n",
       "       -3.33866328e-02, -2.21145973e-01,  7.82471597e-02, -4.17709053e-02,\n",
       "        9.52527598e-02, -3.34669687e-02, -3.90891910e-01,  2.71300413e-02,\n",
       "       -2.18692914e-01, -2.49209702e-02,  1.78961456e-03,  1.50217772e-01,\n",
       "       -7.00644553e-02, -1.30738899e-01, -2.18264330e-02, -7.57301599e-02,\n",
       "       -1.90378100e-01,  2.02515900e-01, -6.36990890e-02,  8.87535661e-02,\n",
       "       -3.12903076e-02, -2.15741977e-01, -1.90676376e-02,  1.28298089e-01,\n",
       "        1.26422793e-01,  7.30755180e-03, -3.83870304e-02,  7.56041408e-02,\n",
       "        3.05536538e-01,  1.97547555e-01,  6.71051443e-03, -3.47235054e-03,\n",
       "       -2.86998302e-01,  1.43532783e-01,  1.42809853e-01,  1.48083180e-01,\n",
       "        3.14759374e-01, -1.74648724e-02, -6.22058362e-02,  2.09614366e-01,\n",
       "       -1.53232485e-01,  2.51472682e-01,  4.21421617e-01, -4.22203764e-02,\n",
       "        3.07794604e-02, -4.61425558e-02, -2.54705548e-04, -1.09250434e-01,\n",
       "        3.31278741e-02,  4.47793007e-02, -2.63601065e-01, -2.06287503e-01,\n",
       "       -1.53191894e-01,  4.21545357e-02,  1.81277156e-01, -2.64633447e-03,\n",
       "        3.59400064e-02,  7.53236189e-02, -2.57877409e-02, -2.40530461e-01,\n",
       "        1.76721245e-01, -6.47684485e-02, -1.36292487e-01,  3.65984552e-02,\n",
       "       -2.63931841e-01, -8.99682194e-03,  6.50821626e-03,  4.89347801e-02,\n",
       "        1.23769619e-01, -1.37876660e-01,  1.82801485e-01, -9.55680385e-02,\n",
       "        1.58517972e-01, -1.22421086e-02,  2.85510957e-01, -1.99893266e-02,\n",
       "        1.39395744e-01,  1.79234087e-01,  2.62566209e-01, -1.15208551e-02,\n",
       "       -1.01085141e-01,  3.63361426e-02, -2.56548077e-01,  1.63104087e-01,\n",
       "       -7.33844042e-02,  1.63371593e-01,  7.97417387e-02, -8.21468458e-02,\n",
       "        2.07151294e-01, -3.82605493e-02,  1.64799392e-02, -2.61202186e-01,\n",
       "       -1.22869372e-01,  8.04456621e-02, -9.93575305e-02, -1.67955339e-01],\n",
       "      dtype=float32)"
      ]
     },
     "execution_count": 101,
     "metadata": {},
     "output_type": "execute_result"
    }
   ],
   "source": [
    "model.get_word_vector('br')"
   ]
  },
  {
   "cell_type": "code",
   "execution_count": 102,
   "metadata": {},
   "outputs": [],
   "source": [
    "        \n",
    "embedding_layer = Embedding(len(word_index) + 1,\n",
    "                            EMBEDDING_DIM,\n",
    "                            weights=[embedding_matrix],\n",
    "                            input_length=MAX_SEQUENCE_LENGTH)"
   ]
  },
  {
   "cell_type": "code",
   "execution_count": 103,
   "metadata": {
    "colab": {
     "base_uri": "https://localhost:8080/"
    },
    "id": "IyUpCE4fpMXN",
    "outputId": "04c0e4f8-ce51-4d6f-d2a8-a5cf9568142e",
    "scrolled": true
   },
   "outputs": [
    {
     "name": "stdout",
     "output_type": "stream",
     "text": [
      "Size of train, validation, test: 4000 2500 2500 (4000, 2)\n",
      "real & fake news in train,valt,test:\n",
      "[2002. 1998.]\n",
      "[1270. 1230.]\n",
      "[1262. 1238.]\n"
     ]
    }
   ],
   "source": [
    "# Train test validation Split\n",
    "from sklearn.model_selection import train_test_split\n",
    "\n",
    "# indices = np.arange(data.shape[0])\n",
    "# np.random.shuffle(indices)\n",
    "# data = data[indices]\n",
    "# labels = labels[indices]\n",
    "x_train, x_test, y_train, y_test = train_test_split( data, labels, test_size=0.20, random_state=42)\n",
    "x_test, x_val, y_test, y_val = train_test_split( data, labels, test_size=0.50, random_state=32)\n",
    "print('Size of train, validation, test:', len(y_train), len(y_val), len(y_test),y_train.shape)\n",
    "\n",
    "print('real & fake news in train,valt,test:')\n",
    "print(y_train.sum(axis=0))\n",
    "print(y_val.sum(axis=0))\n",
    "print(y_test.sum(axis=0))"
   ]
  },
  {
   "cell_type": "code",
   "execution_count": 104,
   "metadata": {
    "colab": {
     "base_uri": "https://localhost:8080/"
    },
    "id": "hreP2ugUtRSg",
    "outputId": "da3872fa-d740-4a73-a856-f475546966ca"
   },
   "outputs": [
    {
     "data": {
      "text/plain": [
       "(4000, 1000)"
      ]
     },
     "execution_count": 104,
     "metadata": {},
     "output_type": "execute_result"
    }
   ],
   "source": [
    "x_train.shape"
   ]
  },
  {
   "cell_type": "code",
   "execution_count": 105,
   "metadata": {},
   "outputs": [
    {
     "data": {
      "text/plain": [
       "100"
      ]
     },
     "execution_count": 105,
     "metadata": {},
     "output_type": "execute_result"
    }
   ],
   "source": [
    "EMBEDDING_DIM"
   ]
  },
  {
   "cell_type": "code",
   "execution_count": 106,
   "metadata": {},
   "outputs": [
    {
     "data": {
      "text/plain": [
       "1000"
      ]
     },
     "execution_count": 106,
     "metadata": {},
     "output_type": "execute_result"
    }
   ],
   "source": [
    "MAX_SEQUENCE_LENGTH"
   ]
  },
  {
   "cell_type": "code",
   "execution_count": 107,
   "metadata": {},
   "outputs": [],
   "source": [
    "# embedding_layer = Embedding(len(word_index) + 1, EMBEDDING_DIM, input_length=MAX_SEQUENCE_LENGTH)"
   ]
  },
  {
   "cell_type": "code",
   "execution_count": 108,
   "metadata": {
    "colab": {
     "base_uri": "https://localhost:8080/"
    },
    "id": "tRdKhAQzpMXP",
    "outputId": "efcab6db-0e76-403e-d0e7-1671bc45ad34"
   },
   "outputs": [
    {
     "name": "stdout",
     "output_type": "stream",
     "text": [
      "Fitting the simple convolutional neural network model\n",
      "Model: \"model\"\n",
      "_________________________________________________________________\n",
      " Layer (type)                Output Shape              Param #   \n",
      "=================================================================\n",
      " input_1 (InputLayer)        [(None, 1000)]            0         \n",
      "                                                                 \n",
      " embedding (Embedding)       (None, 1000, 100)         3758600   \n",
      "                                                                 \n",
      " conv1d (Conv1D)             (None, 996, 256)          128256    \n",
      "                                                                 \n",
      " max_pooling1d (MaxPooling1  (None, 199, 256)          0         \n",
      " D)                                                              \n",
      "                                                                 \n",
      " conv1d_1 (Conv1D)           (None, 195, 256)          327936    \n",
      "                                                                 \n",
      " max_pooling1d_1 (MaxPoolin  (None, 39, 256)           0         \n",
      " g1D)                                                            \n",
      "                                                                 \n",
      " conv1d_2 (Conv1D)           (None, 35, 256)           327936    \n",
      "                                                                 \n",
      " max_pooling1d_2 (MaxPoolin  (None, 1, 256)            0         \n",
      " g1D)                                                            \n",
      "                                                                 \n",
      " flatten (Flatten)           (None, 256)               0         \n",
      "                                                                 \n",
      " dense (Dense)               (None, 256)               65792     \n",
      "                                                                 \n",
      " dense_1 (Dense)             (None, 2)                 514       \n",
      "                                                                 \n",
      "=================================================================\n",
      "Total params: 4609034 (17.58 MB)\n",
      "Trainable params: 4609034 (17.58 MB)\n",
      "Non-trainable params: 0 (0.00 Byte)\n",
      "_________________________________________________________________\n"
     ]
    }
   ],
   "source": [
    "# Simple CNN model\n",
    "sequence_input = Input(shape=(MAX_SEQUENCE_LENGTH,))\n",
    "embedded_sequences = embedding_layer(sequence_input)\n",
    "l_cov1= Conv1D(256, 5, activation='relu')(embedded_sequences)\n",
    "l_pool1 = MaxPooling1D(5)(l_cov1)\n",
    "l_cov2 = Conv1D(256, 5, activation='relu')(l_pool1)\n",
    "l_pool2 = MaxPooling1D(5)(l_cov2)\n",
    "l_cov3 = Conv1D(256, 5, activation='relu')(l_pool2)\n",
    "l_pool3 = MaxPooling1D(35)(l_cov3)  # global max pooling\n",
    "l_flat = Flatten()(l_pool3)\n",
    "l_dense = Dense(256, activation='relu')(l_flat)\n",
    "preds = Dense(2, activation='softmax')(l_dense)\n",
    "\n",
    "model = Model(sequence_input, preds)\n",
    "model.compile(loss='categorical_crossentropy', optimizer='Nadam', metrics=['acc'])\n",
    "\n",
    "print(\"Fitting the simple convolutional neural network model\")\n",
    "model.summary()\n"
   ]
  },
  {
   "cell_type": "code",
   "execution_count": 109,
   "metadata": {},
   "outputs": [
    {
     "name": "stdout",
     "output_type": "stream",
     "text": [
      "Epoch 1/10\n",
      "32/32 [==============================] - 46s 1s/step - loss: 0.6955 - acc: 0.5595 - val_loss: 0.6014 - val_acc: 0.7000\n",
      "Epoch 2/10\n",
      "32/32 [==============================] - 43s 1s/step - loss: 0.5085 - acc: 0.7667 - val_loss: 0.3131 - val_acc: 0.8748\n",
      "Epoch 3/10\n",
      "32/32 [==============================] - 42s 1s/step - loss: 0.2740 - acc: 0.8907 - val_loss: 0.2241 - val_acc: 0.9208\n",
      "Epoch 4/10\n",
      "32/32 [==============================] - 43s 1s/step - loss: 0.1385 - acc: 0.9480 - val_loss: 0.1321 - val_acc: 0.9552\n",
      "Epoch 5/10\n",
      "32/32 [==============================] - 43s 1s/step - loss: 0.0485 - acc: 0.9860 - val_loss: 0.7466 - val_acc: 0.7796\n",
      "Epoch 6/10\n",
      "32/32 [==============================] - 43s 1s/step - loss: 0.1957 - acc: 0.9625 - val_loss: 0.1341 - val_acc: 0.9652\n",
      "Epoch 7/10\n",
      "32/32 [==============================] - 42s 1s/step - loss: 0.0108 - acc: 0.9970 - val_loss: 0.1698 - val_acc: 0.9688\n",
      "Epoch 8/10\n",
      "32/32 [==============================] - 43s 1s/step - loss: 0.0021 - acc: 0.9995 - val_loss: 0.2122 - val_acc: 0.9688\n",
      "Epoch 9/10\n",
      "32/32 [==============================] - 43s 1s/step - loss: 7.4043e-04 - acc: 0.9998 - val_loss: 0.2191 - val_acc: 0.9684\n",
      "Epoch 10/10\n",
      "32/32 [==============================] - 42s 1s/step - loss: 1.9556e-04 - acc: 1.0000 - val_loss: 0.2398 - val_acc: 0.9688\n"
     ]
    }
   ],
   "source": [
    "history = model.fit(x_train, y_train, validation_data=(x_val, y_val),\n",
    "          epochs=10, batch_size=128, verbose=1)"
   ]
  },
  {
   "cell_type": "code",
   "execution_count": 110,
   "metadata": {
    "colab": {
     "base_uri": "https://localhost:8080/",
     "height": 591
    },
    "id": "9zOTbNMCpMXQ",
    "outputId": "20d2cda2-3462-4c46-aebb-41fffaa326d0"
   },
   "outputs": [
    {
     "name": "stdout",
     "output_type": "stream",
     "text": [
      "dict_keys(['loss', 'acc', 'val_loss', 'val_acc'])\n"
     ]
    },
    {
     "data": {
      "image/png": "[encoded data removed]",
      "text/plain": [
       "<Figure size 640x480 with 1 Axes>"
      ]
     },
     "metadata": {},
     "output_type": "display_data"
    },
    {
     "data": {
      "image/png": "[encoded data removed]",
      "text/plain": [
       "<Figure size 640x480 with 1 Axes>"
      ]
     },
     "metadata": {},
     "output_type": "display_data"
    }
   ],
   "source": [
    "import matplotlib.pyplot as plt\n",
    "%matplotlib inline \n",
    "# list all data in history\n",
    "print(history.history.keys())\n",
    "# summarize history for accuracy\n",
    "plt.plot(history.history['acc'])\n",
    "plt.plot(history.history['val_acc'])\n",
    "plt.title('model accuracy')\n",
    "plt.ylabel('accuracy')\n",
    "plt.xlabel('epoch')\n",
    "plt.legend(['train', 'test'], loc='upper left')\n",
    "plt.show()\n",
    "# summarize history for loss\n",
    "plt.plot(history.history['loss'])\n",
    "plt.plot(history.history['val_loss'])\n",
    "plt.title('model loss')\n",
    "plt.ylabel('loss')\n",
    "plt.xlabel('epoch')\n",
    "plt.legend(['train', 'test'], loc='upper left')\n",
    "plt.show()"
   ]
  },
  {
   "cell_type": "code",
   "execution_count": 111,
   "metadata": {
    "id": "XVRDcEdh_J6c"
   },
   "outputs": [],
   "source": [
    "from keras.layers import Concatenate"
   ]
  },
  {
   "cell_type": "code",
   "execution_count": 112,
   "metadata": {},
   "outputs": [
    {
     "data": {
      "text/plain": [
       "(4000, 1000)"
      ]
     },
     "execution_count": 112,
     "metadata": {},
     "output_type": "execute_result"
    }
   ],
   "source": [
    "x_train.shape"
   ]
  },
  {
   "cell_type": "code",
   "execution_count": 114,
   "metadata": {
    "colab": {
     "base_uri": "https://localhost:8080/"
    },
    "id": "H5TKnZR-pMXR",
    "outputId": "348d8c3b-95f7-45c2-8d1f-4ac0e3dad24a"
   },
   "outputs": [
    {
     "name": "stdout",
     "output_type": "stream",
     "text": [
      "Fitting a more complex convolutional neural network model\n",
      "Model: \"model_2\"\n",
      "__________________________________________________________________________________________________\n",
      " Layer (type)                Output Shape                 Param #   Connected to                  \n",
      "==================================================================================================\n",
      " input_3 (InputLayer)        [(None, 1000)]               0         []                            \n",
      "                                                                                                  \n",
      " embedding (Embedding)       (None, 1000, 100)            3758600   ['input_3[0][0]']             \n",
      "                                                                                                  \n",
      " conv1d_8 (Conv1D)           (None, 998, 128)             38528     ['embedding[1][0]']           \n",
      "                                                                                                  \n",
      " conv1d_9 (Conv1D)           (None, 997, 128)             51328     ['embedding[1][0]']           \n",
      "                                                                                                  \n",
      " conv1d_10 (Conv1D)          (None, 996, 128)             64128     ['embedding[1][0]']           \n",
      "                                                                                                  \n",
      " max_pooling1d_8 (MaxPoolin  (None, 199, 128)             0         ['conv1d_8[0][0]']            \n",
      " g1D)                                                                                             \n",
      "                                                                                                  \n",
      " max_pooling1d_9 (MaxPoolin  (None, 199, 128)             0         ['conv1d_9[0][0]']            \n",
      " g1D)                                                                                             \n",
      "                                                                                                  \n",
      " max_pooling1d_10 (MaxPooli  (None, 199, 128)             0         ['conv1d_10[0][0]']           \n",
      " ng1D)                                                                                            \n",
      "                                                                                                  \n",
      " concatenate_1 (Concatenate  (None, 199, 384)             0         ['max_pooling1d_8[0][0]',     \n",
      " )                                                                   'max_pooling1d_9[0][0]',     \n",
      "                                                                     'max_pooling1d_10[0][0]']    \n",
      "                                                                                                  \n",
      " conv1d_11 (Conv1D)          (None, 195, 128)             245888    ['concatenate_1[0][0]']       \n",
      "                                                                                                  \n",
      " max_pooling1d_11 (MaxPooli  (None, 39, 128)              0         ['conv1d_11[0][0]']           \n",
      " ng1D)                                                                                            \n",
      "                                                                                                  \n",
      " conv1d_12 (Conv1D)          (None, 35, 128)              82048     ['max_pooling1d_11[0][0]']    \n",
      "                                                                                                  \n",
      " max_pooling1d_12 (MaxPooli  (None, 1, 128)               0         ['conv1d_12[0][0]']           \n",
      " ng1D)                                                                                            \n",
      "                                                                                                  \n",
      " flatten_2 (Flatten)         (None, 128)                  0         ['max_pooling1d_12[0][0]']    \n",
      "                                                                                                  \n",
      " dense_4 (Dense)             (None, 128)                  16512     ['flatten_2[0][0]']           \n",
      "                                                                                                  \n",
      " dense_5 (Dense)             (None, 2)                    258       ['dense_4[0][0]']             \n",
      "                                                                                                  \n",
      "==================================================================================================\n",
      "Total params: 4257290 (16.24 MB)\n",
      "Trainable params: 4257290 (16.24 MB)\n",
      "Non-trainable params: 0 (0.00 Byte)\n",
      "__________________________________________________________________________________________________\n",
      "Epoch 1/10\n",
      "32/32 [==============================] - 50s 1s/step - loss: 0.7078 - acc: 0.5002 - val_loss: 0.6901 - val_acc: 0.5204\n",
      "Epoch 2/10\n",
      "32/32 [==============================] - 47s 1s/step - loss: 0.6692 - acc: 0.5400 - val_loss: 0.6611 - val_acc: 0.5500\n",
      "Epoch 3/10\n",
      "32/32 [==============================] - 46s 1s/step - loss: 0.5773 - acc: 0.6155 - val_loss: 0.5486 - val_acc: 0.6208\n",
      "Epoch 4/10\n",
      "32/32 [==============================] - 46s 1s/step - loss: 0.5113 - acc: 0.6497 - val_loss: 0.5358 - val_acc: 0.6516\n",
      "Epoch 5/10\n",
      "32/32 [==============================] - 42s 1s/step - loss: 0.4849 - acc: 0.6702 - val_loss: 0.5333 - val_acc: 0.6556\n",
      "Epoch 6/10\n",
      "32/32 [==============================] - 41s 1s/step - loss: 0.4758 - acc: 0.6547 - val_loss: 0.5389 - val_acc: 0.6588\n",
      "Epoch 7/10\n",
      "32/32 [==============================] - 39s 1s/step - loss: 0.4732 - acc: 0.6610 - val_loss: 0.5419 - val_acc: 0.6388\n",
      "Epoch 8/10\n",
      "32/32 [==============================] - 39s 1s/step - loss: 0.4698 - acc: 0.6697 - val_loss: 0.5445 - val_acc: 0.6392\n",
      "Epoch 9/10\n",
      "32/32 [==============================] - 39s 1s/step - loss: 0.4678 - acc: 0.6532 - val_loss: 0.5500 - val_acc: 0.6384\n",
      "Epoch 10/10\n",
      "32/32 [==============================] - 39s 1s/step - loss: 0.4675 - acc: 0.6615 - val_loss: 0.5534 - val_acc: 0.6380\n"
     ]
    }
   ],
   "source": [
    "\n",
    "\n",
    "\n",
    "convs = []\n",
    "filter_sizes = [3,4,5]\n",
    "\n",
    "sequence_input = Input(shape=(MAX_SEQUENCE_LENGTH,))\n",
    "embedded_sequences = embedding_layer(sequence_input)\n",
    "\n",
    "for fsz in filter_sizes:\n",
    "    l_conv = Conv1D(128,fsz,activation='relu')(embedded_sequences)\n",
    "    l_pool = MaxPooling1D(5)(l_conv)\n",
    "    convs.append(l_pool)   \n",
    "l_merge = Concatenate()(convs)\n",
    "l_cov1= Conv1D(filters=128, kernel_size=5, activation='relu')(l_merge)\n",
    "#l_cov1= Conv1D(filters=128, kernel_size=5, activation='relu')(convs)\n",
    "l_pool1 = MaxPooling1D(5)(l_cov1)\n",
    "l_cov2 = Conv1D(filters=128, kernel_size=5, activation='relu')(l_pool1)\n",
    "l_pool2 = MaxPooling1D(30)(l_cov2)\n",
    "l_flat = Flatten()(l_pool2)\n",
    "l_dense = Dense(128, activation='relu')(l_flat)\n",
    "preds = Dense(2, activation='softmax')(l_dense)\n",
    "\n",
    "model2 = Model(sequence_input, preds)\n",
    "model2.compile(loss='categorical_crossentropy',\n",
    "              optimizer='Nadam',\n",
    "              metrics=['acc'])\n",
    "\n",
    "print(\"Fitting a more complex convolutional neural network model\")\n",
    "model2.summary()\n",
    "history2 = model2.fit(x_train, y_train, validation_data=(x_val, y_val),\n",
    "          epochs=10, batch_size=128, verbose=1)\n",
    "# model2.save('model.h5')"
   ]
  },
  {
   "cell_type": "code",
   "execution_count": 115,
   "metadata": {
    "id": "KLxQeeW2pMXS"
   },
   "outputs": [
    {
     "name": "stdout",
     "output_type": "stream",
     "text": [
      "dict_keys(['loss', 'acc', 'val_loss', 'val_acc'])\n"
     ]
    },
    {
     "data": {
      "image/png": "[encoded data removed]",
      "text/plain": [
       "<Figure size 640x480 with 1 Axes>"
      ]
     },
     "metadata": {},
     "output_type": "display_data"
    },
    {
     "data": {
      "image/png": "[encoded data removed]",
      "text/plain": [
       "<Figure size 640x480 with 1 Axes>"
      ]
     },
     "metadata": {},
     "output_type": "display_data"
    }
   ],
   "source": [
    "# list all data in history\n",
    "print(history2.history.keys())\n",
    "import matplotlib.pyplot as plt\n",
    "%matplotlib inline \n",
    "# summarize history for accuracy\n",
    "plt.plot(history2.history['acc'])\n",
    "plt.plot(history2.history['val_acc'])\n",
    "plt.title('model accuracy')\n",
    "plt.ylabel('accuracy')\n",
    "plt.xlabel('epoch')\n",
    "plt.legend(['train', 'test'], loc='upper left')\n",
    "plt.show()\n",
    "# summarize history for loss\n",
    "plt.plot(history2.history['loss'])\n",
    "plt.plot(history2.history['val_loss'])\n",
    "plt.title('model loss')\n",
    "plt.ylabel('loss')\n",
    "plt.xlabel('epoch')\n",
    "plt.legend(['train', 'test'], loc='upper left')\n",
    "plt.show()"
   ]
  },
  {
   "cell_type": "code",
   "execution_count": 116,
   "metadata": {
    "id": "bAF1gkaGpMXT"
   },
   "outputs": [
    {
     "name": "stdout",
     "output_type": "stream",
     "text": [
      "79/79 [==============================] - 5s 63ms/step\n",
      "Correct predictions: 2427.0\n",
      "Total number of test examples: 2500\n",
      "Accuracy of model1:  0.9708\n",
      "79/79 [==============================] - 5s 64ms/step\n",
      "79/79 [==============================] - 5s 67ms/step\n",
      "Correct predictions: 1620.0\n",
      "Total number of test examples: 2500\n",
      "Accuracy of model2:  0.648\n",
      "79/79 [==============================] - 5s 66ms/step\n"
     ]
    },
    {
     "data": {
      "image/png": "[encoded data removed]",
      "text/plain": [
       "<Figure size 480x480 with 2 Axes>"
      ]
     },
     "metadata": {},
     "output_type": "display_data"
    },
    {
     "data": {
      "image/png": "[encoded data removed]",
      "text/plain": [
       "<Figure size 480x480 with 2 Axes>"
      ]
     },
     "metadata": {},
     "output_type": "display_data"
    }
   ],
   "source": [
    "# Test model 1\n",
    "test_preds = model.predict(x_test)\n",
    "test_preds = np.round(test_preds)\n",
    "correct_predictions = float(sum(test_preds == y_test)[0])\n",
    "print(\"Correct predictions:\", correct_predictions)\n",
    "print(\"Total number of test examples:\", len(y_test))\n",
    "print(\"Accuracy of model1: \", correct_predictions/float(len(y_test)))\n",
    "\n",
    "# Creating the Confusion Matrix\n",
    "from sklearn.metrics import confusion_matrix\n",
    "x_pred = model.predict(x_test)\n",
    "x_pred = np.round(x_pred)\n",
    "x_pred = x_pred.argmax(1)\n",
    "y_test_s = y_test.argmax(1)\n",
    "cm = confusion_matrix(y_test_s, x_pred)\n",
    "plt.matshow(cm, cmap=plt.cm.binary, interpolation='nearest')\n",
    "plt.title('Confusion matrix - model1')\n",
    "plt.colorbar()\n",
    "plt.ylabel('expected label')\n",
    "plt.xlabel('predicted label')\n",
    "# plt.show()\n",
    "\n",
    "#Test model 2\n",
    "test_preds2 = model2.predict(x_test)\n",
    "test_preds2 = np.round(test_preds2)\n",
    "correct_predictions = float(sum(test_preds2 == y_test)[0])\n",
    "print(\"Correct predictions:\", correct_predictions)\n",
    "print(\"Total number of test examples:\", len(y_test))\n",
    "print(\"Accuracy of model2: \", correct_predictions/float(len(y_test)))\n",
    "\n",
    "# Creating the Confusion Matrix\n",
    "x_pred = model2.predict(x_test)\n",
    "x_pred = np.round(x_pred)\n",
    "x_pred = x_pred.argmax(1)\n",
    "y_test_s = y_test.argmax(1)\n",
    "cm = confusion_matrix(y_test_s, x_pred)\n",
    "plt.matshow(cm, cmap=plt.cm.binary, interpolation='nearest',)\n",
    "plt.title('Confusion matrix - model2')\n",
    "plt.colorbar()\n",
    "plt.ylabel('expected label')\n",
    "plt.xlabel('predicted label')\n",
    "plt.show()"
   ]
  },
  {
   "cell_type": "code",
   "execution_count": 117,
   "metadata": {
    "id": "a8ia9FVcpMXU"
   },
   "outputs": [
    {
     "name": "stdout",
     "output_type": "stream",
     "text": [
      "Test loss: 0.17564748227596283\n",
      "Test accuracy: 0.97079998254776\n"
     ]
    }
   ],
   "source": [
    "score = model.evaluate(x_test, y_test, verbose=0)\n",
    "print('Test loss:', score[0])\n",
    "print('Test accuracy:', score[1])"
   ]
  },
  {
   "cell_type": "code",
   "execution_count": 118,
   "metadata": {
    "id": "gqVIUBzupMXU"
   },
   "outputs": [
    {
     "name": "stdout",
     "output_type": "stream",
     "text": [
      "Test loss: 0.5825088024139404\n",
      "Test accuracy: 0.6480000019073486\n"
     ]
    }
   ],
   "source": [
    "score = model2.evaluate(x_test, y_test, verbose=0)\n",
    "print('Test loss:', score[0])\n",
    "print('Test accuracy:', score[1])"
   ]
  },
  {
   "cell_type": "code",
   "execution_count": null,
   "metadata": {
    "id": "0flL9PU6pMXU"
   },
   "outputs": [],
   "source": []
  },
  {
   "cell_type": "code",
   "execution_count": null,
   "metadata": {
    "id": "_yU2Y0dXpMXV"
   },
   "outputs": [],
   "source": []
  },
  {
   "cell_type": "code",
   "execution_count": null,
   "metadata": {
    "id": "NfY9wu316t7z"
   },
   "outputs": [],
   "source": []
  }
 ],
 "metadata": {
  "accelerator": "TPU",
  "colab": {
   "provenance": []
  },
  "gpuClass": "standard",
  "kernelspec": {
   "display_name": "Python 3 (ipykernel)",
   "language": "python",
   "name": "python3"
  },
  "language_info": {
   "codemirror_mode": {
    "name": "ipython",
    "version": 3
   },
   "file_extension": ".py",
   "mimetype": "text/x-python",
   "name": "python",
   "nbconvert_exporter": "python",
   "pygments_lexer": "ipython3",
   "version": "3.11.4"
  }
 },
 "nbformat": 4,
 "nbformat_minor": 1
}
